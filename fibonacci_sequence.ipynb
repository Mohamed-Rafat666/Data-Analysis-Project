{
  "nbformat": 4,
  "nbformat_minor": 0,
  "metadata": {
    "colab": {
      "name": "fibonacci sequence",
      "provenance": [],
      "authorship_tag": "ABX9TyOVBdIgQDCrS8Q6uAutpYHV",
      "include_colab_link": true
    },
    "kernelspec": {
      "name": "python3",
      "display_name": "Python 3"
    },
    "language_info": {
      "name": "python"
    }
  },
  "cells": [
    {
      "cell_type": "markdown",
      "metadata": {
        "id": "view-in-github",
        "colab_type": "text"
      },
      "source": [
        "<a href=\"https://colab.research.google.com/github/Mohamed-Rafat666/Data-Analysis-Project/blob/main/fibonacci_sequence.ipynb\" target=\"_parent\"><img src=\"https://colab.research.google.com/assets/colab-badge.svg\" alt=\"Open In Colab\"/></a>"
      ]
    },
    {
      "cell_type": "code",
      "execution_count": 51,
      "metadata": {
        "id": "weNOtzUknBW1"
      },
      "outputs": [],
      "source": [
        "def fib(n,*a):\n",
        "    fib=[]\n",
        "    for i in a:\n",
        "        fib.append(i)\n",
        "\n",
        "    if n < len(a):\n",
        "      fib=fib[:n]\n",
        "    else :\n",
        "      for j in range (n-len(a)):\n",
        "          fib.append(sum(fib[j:]))\n",
        "\n",
        "    return fib"
      ]
    }
  ]
}